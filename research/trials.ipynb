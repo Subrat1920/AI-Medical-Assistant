{
 "cells": [
  {
   "cell_type": "code",
   "execution_count": 1,
   "id": "1031ad6b",
   "metadata": {},
   "outputs": [],
   "source": [
    "import os\n",
    "from dotenv import load_dotenv\n",
    "\n",
    "from langchain_community.document_loaders import PyPDFLoader, DirectoryLoader\n",
    "from langchain.text_splitter import RecursiveCharacterTextSplitter"
   ]
  },
  {
   "cell_type": "code",
   "execution_count": 2,
   "id": "5948d047",
   "metadata": {},
   "outputs": [],
   "source": [
    "## Extracting the data from the pdf file\n",
    "def extract_data_from_pdf(file):\n",
    "    loader = DirectoryLoader(\n",
    "        file,\n",
    "        glob=\"*.pdf\",\n",
    "        loader_cls= PyPDFLoader\n",
    "    )\n",
    "\n",
    "    documents = loader.load()\n",
    "\n",
    "    return documents\n",
    "\n",
    "\n",
    "## Extracting the data from the directory --> We must take the directory path, as in the function we have mentioned glob = .pdf (all the pdf presented)\n",
    "docs = extract_data_from_pdf(\"D:/Generative AI Projects/AI-Medical-Assistant/research/source\")"
   ]
  },
  {
   "cell_type": "code",
   "execution_count": 3,
   "id": "2b291bfa",
   "metadata": {},
   "outputs": [
    {
     "data": {
      "text/plain": [
       "637"
      ]
     },
     "execution_count": 3,
     "metadata": {},
     "output_type": "execute_result"
    }
   ],
   "source": [
    "len(docs)"
   ]
  },
  {
   "cell_type": "code",
   "execution_count": 4,
   "id": "5bfcef29",
   "metadata": {},
   "outputs": [],
   "source": [
    "## Splitting the texts\n",
    "def text_split(documents):\n",
    "    splitter = RecursiveCharacterTextSplitter(\n",
    "        chunk_size = 500,\n",
    "        chunk_overlap = 20,\n",
    "    )\n",
    "    docs = splitter.split_documents(documents)\n",
    "    return docs\n",
    "\n",
    "\n",
    "## Split the documents into chunks\n",
    "splitted_docs = text_split(docs)"
   ]
  },
  {
   "cell_type": "code",
   "execution_count": 5,
   "id": "c81e81ac",
   "metadata": {},
   "outputs": [
    {
     "data": {
      "text/plain": [
       "5859"
      ]
     },
     "execution_count": 5,
     "metadata": {},
     "output_type": "execute_result"
    }
   ],
   "source": [
    "len(splitted_docs)"
   ]
  },
  {
   "cell_type": "code",
   "execution_count": 7,
   "id": "24131dc6",
   "metadata": {},
   "outputs": [],
   "source": [
    "import warnings\n",
    "warnings.filterwarnings(\"ignore\")\n",
    "from langchain_huggingface.embeddings import HuggingFaceEmbeddings\n",
    "\n",
    "def download_huggingface_embeddings():\n",
    "    embeddings = HuggingFaceEmbeddings(model = 'all-MiniLM-L6-v2')\n",
    "    return embeddings\n",
    "\n",
    "embeddings = download_huggingface_embeddings()"
   ]
  },
  {
   "cell_type": "code",
   "execution_count": 8,
   "id": "2c5852fc",
   "metadata": {},
   "outputs": [
    {
     "data": {
      "text/plain": [
       "HuggingFaceEmbeddings(model_name='all-MiniLM-L6-v2', cache_folder=None, model_kwargs={}, encode_kwargs={}, query_encode_kwargs={}, multi_process=False, show_progress=False)"
      ]
     },
     "execution_count": 8,
     "metadata": {},
     "output_type": "execute_result"
    }
   ],
   "source": [
    "embeddings"
   ]
  },
  {
   "cell_type": "code",
   "execution_count": 9,
   "id": "0b4a31d6",
   "metadata": {},
   "outputs": [
    {
     "data": {
      "text/plain": [
       "384"
      ]
     },
     "execution_count": 9,
     "metadata": {},
     "output_type": "execute_result"
    }
   ],
   "source": [
    "len(embeddings.embed_query(\"Hello world\"))"
   ]
  },
  {
   "cell_type": "code",
   "execution_count": 13,
   "id": "d15b9c74",
   "metadata": {},
   "outputs": [],
   "source": [
    "from pinecone import Pinecone, ServerlessSpec\n",
    "\n",
    "load_dotenv()\n",
    "\n",
    "## laod the pinecode api key\n",
    "pinecone_api = os.getenv(\"PINECONE_API\")\n",
    "\n",
    "## initialize the pinecode client with the api\n",
    "pc = Pinecone(api_key=pinecone_api)\n",
    "\n",
    "## index name\n",
    "index_name = \"med-chat-bot\"\n",
    "\n",
    "if not pc.has_index(index_name):\n",
    "    pc.create_index(\n",
    "        name=index_name,\n",
    "        dimension=384,  \n",
    "        metric=\"cosine\",\n",
    "        spec=ServerlessSpec(cloud=\"aws\", region=\"us-east-1\")\n",
    "    )\n"
   ]
  },
  {
   "cell_type": "code",
   "execution_count": 21,
   "id": "c217a498",
   "metadata": {},
   "outputs": [],
   "source": [
    "from langchain_pinecone import PineconeVectorStore\n",
    "import pinecone\n",
    "\n",
    "os.environ[\"PINECONE_API_KEY\"] = pinecone_api\n",
    "\n",
    "docsearch = PineconeVectorStore.from_documents(\n",
    "    documents=splitted_docs,\n",
    "    index_name=index_name,\n",
    "    embedding=embeddings\n",
    ")"
   ]
  },
  {
   "cell_type": "code",
   "execution_count": 22,
   "id": "12321855",
   "metadata": {},
   "outputs": [],
   "source": [
    "## Load existing index\n",
    "\n",
    "from langchain_pinecone import PineconeVectorStore\n",
    "\n",
    "## embed each chunk and upsert the embeddings into your pinecone index\n",
    "docsearch = PineconeVectorStore.from_existing_index(\n",
    "    index_name=index_name,\n",
    "    embedding=embeddings\n",
    ")\n"
   ]
  },
  {
   "cell_type": "code",
   "execution_count": 23,
   "id": "21ad3efe",
   "metadata": {},
   "outputs": [
    {
     "data": {
      "text/plain": [
       "<langchain_pinecone.vectorstores.PineconeVectorStore at 0x1bfb1a42990>"
      ]
     },
     "execution_count": 23,
     "metadata": {},
     "output_type": "execute_result"
    }
   ],
   "source": [
    "docsearch"
   ]
  },
  {
   "cell_type": "code",
   "execution_count": 25,
   "id": "d5311dc4",
   "metadata": {},
   "outputs": [],
   "source": [
    "retriever = docsearch.as_retriever(\n",
    "    search_type = 'similarity',\n",
    "    search_kwargs = {\"k\":3}\n",
    ")"
   ]
  },
  {
   "cell_type": "code",
   "execution_count": 26,
   "id": "6f46b3f9",
   "metadata": {},
   "outputs": [
    {
     "data": {
      "text/plain": [
       "[Document(id='74929251-67be-481b-a253-4ba1f86f2495', metadata={'creationdate': '2004-12-18T17:00:02-05:00', 'creator': 'PyPDF', 'moddate': '2004-12-18T16:15:31-06:00', 'page': 39.0, 'page_label': '40', 'producer': 'PDFlib+PDI 5.0.0 (SunOS)', 'source': 'D:\\\\Generative AI Projects\\\\AI-Medical-Assistant\\\\research\\\\source\\\\Gale Encyclopedia of Medicine Vol. 1 (A-B).pdf', 'total_pages': 637.0}, page_content='GALE ENCYCLOPEDIA OF MEDICINE 226\\nAcne\\nGEM - 0001 to 0432 - A  10/22/03 1:41 PM  Page 26'),\n",
       " Document(id='4371e7a0-a0d6-472a-852c-4ab25b74a476', metadata={'creationdate': '2004-12-18T17:00:02-05:00', 'creator': 'PyPDF', 'moddate': '2004-12-18T16:15:31-06:00', 'page': 37.0, 'page_label': '38', 'producer': 'PDFlib+PDI 5.0.0 (SunOS)', 'source': 'D:\\\\Generative AI Projects\\\\AI-Medical-Assistant\\\\research\\\\source\\\\Gale Encyclopedia of Medicine Vol. 1 (A-B).pdf', 'total_pages': 637.0}, page_content='Acidosis see Respiratory acidosis; Renal\\ntubular acidosis; Metabolic acidosis\\nAcne\\nDefinition\\nAcne is a common skin disease characterized by\\npimples on the face, chest, and back. It occurs when the\\npores of the skin become clogged with oil, dead skin\\ncells, and bacteria.\\nDescription\\nAcne vulgaris, the medical term for common acne, is\\nthe most common skin disease. It affects nearly 17 million\\npeople in the United States. While acne can arise at any'),\n",
       " Document(id='141185e0-a2cd-400f-bb78-6b3b28ec6360', metadata={'creationdate': '2004-12-18T17:00:02-05:00', 'creator': 'PyPDF', 'moddate': '2004-12-18T16:15:31-06:00', 'page': 38.0, 'page_label': '39', 'producer': 'PDFlib+PDI 5.0.0 (SunOS)', 'source': 'D:\\\\Generative AI Projects\\\\AI-Medical-Assistant\\\\research\\\\source\\\\Gale Encyclopedia of Medicine Vol. 1 (A-B).pdf', 'total_pages': 637.0}, page_content='GALE ENCYCLOPEDIA OF MEDICINE 2 25\\nAcne\\nAcne vulgaris affecting a woman’s face. Acne is the general\\nname given to a skin disorder in which the sebaceous\\nglands become inflamed. (Photograph by Biophoto Associ-\\nates, Photo Researchers, Inc. Reproduced by permission.)\\nGEM - 0001 to 0432 - A  10/22/03 1:41 PM  Page 25')]"
      ]
     },
     "execution_count": 26,
     "metadata": {},
     "output_type": "execute_result"
    }
   ],
   "source": [
    "retriever.invoke(\"What is acne\")"
   ]
  },
  {
   "cell_type": "code",
   "execution_count": null,
   "id": "05f920a4",
   "metadata": {},
   "outputs": [
    {
     "data": {
      "text/plain": [
       "ChatGroq(client=<groq.resources.chat.completions.Completions object at 0x000001BFACC52270>, async_client=<groq.resources.chat.completions.AsyncCompletions object at 0x000001BFACC52E40>, model_name='gemma2-9b-it', model_kwargs={}, groq_api_key=SecretStr('**********'))"
      ]
     },
     "execution_count": 32,
     "metadata": {},
     "output_type": "execute_result"
    }
   ],
   "source": [
    "from langchain_groq import ChatGroq\n",
    "load_dotenv()\n",
    "\n",
    "groq_api = os.getenv(\"GROQ_API\")\n",
    "\n",
    "llm = ChatGroq(\n",
    "    groq_api_key = groq_api,\n",
    "    model = \"gemma2-9b-it\"\n",
    ")\n",
    "llm"
   ]
  },
  {
   "cell_type": "code",
   "execution_count": 42,
   "id": "91f39d73",
   "metadata": {},
   "outputs": [],
   "source": [
    "from langchain.chains import create_retrieval_chain\n",
    "from langchain.chains.combine_documents import create_stuff_documents_chain\n",
    "from langchain_core.prompts import ChatPromptTemplate\n",
    "\n",
    "system_prompt = (\n",
    "    \"You are an assistant for question-answering tasks. \"\n",
    "    \"Use the following pieces of retrieved cotext to answer \"\n",
    "    \"the question. If you do not know the anwer or if it is \"\n",
    "    \"not present in the given context or you find it is out of the context \"\n",
    "    \"say 'you do not know' \"\n",
    "    \"Answer the question in minimum 10 lines\"\n",
    "    \"\\n\\n\"\n",
    "    \"{context}\"\n",
    ")\n",
    "\n",
    "prompt = ChatPromptTemplate.from_messages(\n",
    "    [\n",
    "        (\"system\",system_prompt),\n",
    "        (\"human\" , \"{input}\")\n",
    "    ]\n",
    ")"
   ]
  },
  {
   "cell_type": "code",
   "execution_count": 43,
   "id": "48983989",
   "metadata": {},
   "outputs": [],
   "source": [
    "question_answer_chain = create_stuff_documents_chain(llm, prompt)\n",
    "rag_chain = create_retrieval_chain(retriever, question_answer_chain)\n"
   ]
  },
  {
   "cell_type": "code",
   "execution_count": 44,
   "id": "63a44c1d",
   "metadata": {},
   "outputs": [
    {
     "name": "stdout",
     "output_type": "stream",
     "text": [
      "Acne is a common skin disease that primarily manifests as pimples on the face, chest, and back. \n",
      "\n",
      "The development of acne occurs when the skin's pores become obstructed. This blockage is typically caused by a combination of excess oil production, dead skin cells, and the presence of bacteria. \n",
      "\n",
      "The medical term for common acne is acne vulgaris. This condition is highly prevalent, affecting nearly 17 million people in the United States.  Acne can develop at any age, although it is most common during adolescence. \n",
      "\n",
      "The provided text describes acne as a skin disorder characterized by inflammation of the sebaceous glands, which are responsible for producing oil (sebum) in the skin.  \n",
      "\n",
      "The text also includes a photograph depicting acne vulgaris affecting a woman's face.\n",
      "\n",
      "\n"
     ]
    }
   ],
   "source": [
    "response = rag_chain.invoke({\n",
    "    \"input\" : \"What is Acne\"\n",
    "})\n",
    "\n",
    "print(response['answer'])"
   ]
  },
  {
   "cell_type": "code",
   "execution_count": 46,
   "id": "928b09a8",
   "metadata": {},
   "outputs": [
    {
     "name": "stdout",
     "output_type": "stream",
     "text": [
      "Atherosclerosis is a progressive disease that causes the build-up of plaque on the inside of blood vessels. \n",
      "\n",
      "Here's a breakdown based on the provided text:\n",
      "\n",
      "1. **Definition:** Atherosclerosis is defined as the accumulation of a waxy substance called plaque within the walls of arteries. \n",
      "\n",
      "2. **Origin of the Term:** The name \"atherosclerosis\" comes from the Greek words \"athere,\" meaning gruel, and \"skleros,\" meaning hard. This reflects the characteristic hardened, plaque-filled nature of the affected arteries.\n",
      "\n",
      "3. **Relationship to Arteriosclerosis:** Atherosclerosis is a specific type of arteriosclerosis, a broader term referring to the hardening of arteries.  \n",
      "\n",
      "4. **Progression:** Atherosclerosis is a progressive disease, meaning it worsens over time.  This gradual build-up of plaque restricts blood flow through the arteries, leading to various cardiovascular complications.\n",
      "\n",
      "5. **Impact on Heart Health:** Atherosclerosis is a major cause of heart disease.  The restricted blood flow can lead to chest pain (angina), heart attack, stroke, and other cardiovascular problems. \n",
      "\n",
      "\n",
      "Let me know if you have any other questions about atherosclerosis! \n",
      "\n"
     ]
    }
   ],
   "source": [
    "response = rag_chain.invoke({\n",
    "    \"input\" : \"What is Atherosclerosis\"\n",
    "})\n",
    "\n",
    "print(response['answer'])"
   ]
  },
  {
   "cell_type": "code",
   "execution_count": null,
   "id": "90039ab7",
   "metadata": {},
   "outputs": [],
   "source": []
  }
 ],
 "metadata": {
  "kernelspec": {
   "display_name": "medVenv",
   "language": "python",
   "name": "python3"
  },
  "language_info": {
   "codemirror_mode": {
    "name": "ipython",
    "version": 3
   },
   "file_extension": ".py",
   "mimetype": "text/x-python",
   "name": "python",
   "nbconvert_exporter": "python",
   "pygments_lexer": "ipython3",
   "version": "3.13.5"
  }
 },
 "nbformat": 4,
 "nbformat_minor": 5
}
